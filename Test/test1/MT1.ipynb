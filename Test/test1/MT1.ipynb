{
 "cells": [
  {
   "cell_type": "markdown",
   "metadata": {},
   "source": [
    "# Comp 521 Fall 2017 Midterm 1\n",
    "\n",
    "__Don't Panic!__\n",
    "\n",
    "You may use your book (print or pdf), your notes, homework, anything else you have downloaded to your computer and the Jupyter notebook.\n",
    "\n",
    "You may **not** access the web, instant messaging, phones, or spirit guides. You will pledge on your honor that you have neither given nor received unauthorized help.\n",
    "\n",
    "You must submit your exam before you leave the room. **You must scan your one-card before leaving**.\n",
    "\n",
    "Enter your _onyen_ below and __run the cell with shift-enter__."
   ]
  },
  {
   "cell_type": "code",
   "execution_count": 25,
   "metadata": {
    "collapsed": true
   },
   "outputs": [],
   "source": [
    "Onyen = 'rashnil' # not your PID, your onyen"
   ]
  },
  {
   "cell_type": "markdown",
   "metadata": {},
   "source": [
    "## Honor Pledge\n",
    "\n",
    "I certify that no unauthorized assistance has been received or given in the completion of this work. \n",
    "\n",
    "Enter your full name as the value of the Pledge variable below and run the cell."
   ]
  },
  {
   "cell_type": "code",
   "execution_count": 26,
   "metadata": {
    "collapsed": true
   },
   "outputs": [],
   "source": [
    "Pledge = 'Rashnil Chaturvedi' # type your full name between the quotes"
   ]
  },
  {
   "cell_type": "code",
   "execution_count": 27,
   "metadata": {
    "collapsed": true
   },
   "outputs": [],
   "source": [
    "# setup\n",
    "import sqlite3\n",
    "import comp521\n",
    "\n",
    "db = sqlite3.connect('thrlogs.db')\n",
    "\n",
    "# here is a cursor for your own experiments but your answers\n",
    "# will be SQL queries only.\n",
    "cursor = db.cursor()\n",
    "\n",
    "check, report = comp521.start('MT1')\n",
    "from comp521 import check_query"
   ]
  },
  {
   "cell_type": "markdown",
   "metadata": {},
   "source": [
    "__1. Which of the following SQL operations can be expected to increase the cardinality of a relation?__\n",
    "\n",
    "\tA. delete\t\n",
    "\tB. insert\t\n",
    "\tC. select\n",
    "    D. drop table\t\n"
   ]
  },
  {
   "cell_type": "code",
   "execution_count": 28,
   "metadata": {
    "collapsed": false
   },
   "outputs": [
    {
     "name": "stdout",
     "output_type": "stream",
     "text": [
      "Q1 answered\n"
     ]
    }
   ],
   "source": [
    "# Assign a letter to the answer variable below\n",
    "Q1 = 'B'\n",
    "\n",
    "# Checking code, it will only tell you if the domain of the answer is incorrect\n",
    "check('Q1', Q1, points=5, choice='ABCD')"
   ]
  },
  {
   "cell_type": "markdown",
   "metadata": {},
   "source": [
    "__2. What major function below is not typically performed by a database management system?__\n",
    "\n",
    "    A. query optimization\n",
    "    B. enforcing data integrity constraints\n",
    "    C. translating ER diagrams to schemas\n",
    "    D. concurrency management\n",
    "    E. interpreting SQL commands\n"
   ]
  },
  {
   "cell_type": "code",
   "execution_count": 29,
   "metadata": {
    "collapsed": false
   },
   "outputs": [
    {
     "name": "stdout",
     "output_type": "stream",
     "text": [
      "Q2 answered\n"
     ]
    }
   ],
   "source": [
    "# Assign a letter to the answer variable below\n",
    "Q2 = 'C'\n",
    "\n",
    "# Checking code, it will only tell you if the domain of the answer is incorrect\n",
    "check('Q2', Q2, points=5, choice='ABCDE')"
   ]
  },
  {
   "cell_type": "markdown",
   "metadata": {},
   "source": [
    "__3. Which of the following statements characterize the relational database model?__\n",
    "\n",
    "    A. Entities are stored as tables \t\n",
    "    B. Relations between entities are stored as tables \t\n",
    "    C. The domain for each attribute is pre-specified \t\n",
    "    D. Each table has a distinct name\n",
    "    E. Each table must have a primary key"
   ]
  },
  {
   "cell_type": "code",
   "execution_count": 30,
   "metadata": {
    "collapsed": false
   },
   "outputs": [
    {
     "name": "stdout",
     "output_type": "stream",
     "text": [
      "Q3A answered\n",
      "Q3B answered\n",
      "Q3C answered\n",
      "Q3D answered\n",
      "Q3E answered\n"
     ]
    }
   ],
   "source": [
    "# Assign True or False to each of the variables below.\n",
    "Q3A = True\n",
    "Q3B = True\n",
    "Q3C = True\n",
    "Q3D = True\n",
    "Q3E = False\n",
    "\n",
    "# Checking code, it will only tell you if the domain of the answer is incorrect\n",
    "check('Q3A', Q3A, points=1, choice=[True, False])\n",
    "check('Q3B', Q3B, points=1, choice=[True, False])\n",
    "check('Q3C', Q3C, points=1, choice=[True, False])\n",
    "check('Q3D', Q3D, points=1, choice=[True, False])\n",
    "check('Q3E', Q3E, points=1, choice=[True, False])"
   ]
  },
  {
   "cell_type": "markdown",
   "metadata": {},
   "source": [
    "__4. If relations R and S are union-compatible, which of the following must be true?__\n",
    "\n",
    "    A. R and S have the same number of fields.\n",
    "    B. Attribute names of R and S must match.\n",
    "    C. Corresponding attributes taken in order must have the same (or compatible) domains.\n",
    "    D. The intersection of R and S is the same as the cross-product of R and S.\n",
    "    E. R and S have the same cardinality."
   ]
  },
  {
   "cell_type": "code",
   "execution_count": 31,
   "metadata": {
    "collapsed": false
   },
   "outputs": [
    {
     "name": "stdout",
     "output_type": "stream",
     "text": [
      "Q4A answered\n",
      "Q4B answered\n",
      "Q4C answered\n",
      "Q4D answered\n",
      "Q4E answered\n"
     ]
    }
   ],
   "source": [
    "# Assign True or False to each of the variables below.\n",
    "Q4A = True\n",
    "Q4B = False\n",
    "Q4C = True\n",
    "Q4D = False\n",
    "Q4E = False\n",
    "\n",
    "# Checking code, it will only tell you if the domain of the answer is incorrect\n",
    "check('Q4A', Q4A, points=1, choice=[True, False])\n",
    "check('Q4B', Q4B, points=1, choice=[True, False])\n",
    "check('Q4C', Q4C, points=1, choice=[True, False])\n",
    "check('Q4D', Q4D, points=1, choice=[True, False])\n",
    "check('Q4E', Q4E, points=1, choice=[True, False])"
   ]
  },
  {
   "cell_type": "markdown",
   "metadata": {},
   "source": [
    "## Database info\n",
    "\n",
    "You are to write a single SQL query to answer each question. You will not write any Python code below.\n",
    "\n",
    "The schema of the database is below. It represents book reading activity on Tar Heel Reader over a short period.\n",
    "\n",
    "The **ip** address is assumed to correspond to a single location. For reasons you'll learn in Comp 431 they sometimes don't but for the purposes of the exam assume they do. \n",
    "\n",
    "```\n",
    "create table Reads ( -- a record for each book that was read\n",
    "    time date,       -- time the book was read\n",
    "    ip integer,      -- ip of the computer\n",
    "    bid integer,     -- book id\n",
    "    foreign key (bid) references Books,\n",
    "    foreign key (ip) references Locations)\n",
    "\n",
    "create table Books (\n",
    "    bid integer primary key,\n",
    "    title text,\n",
    "    aid integer,           -- author id\n",
    "    reviewed integer,      -- 1 if the book is reviewed, 0 otherwise\n",
    "    foreign key (aid) references Authors)\n",
    "\n",
    "create table Locations (\n",
    "    ip integer primary key, -- ip address of the computer\n",
    "    country text)           -- country determined from the ip address\n",
    "\n",
    "create table Authors (\n",
    "    aid integer primary key,\n",
    "    login text,    -- user id like Gary\n",
    "    birthday text) -- month and day of the author's birthday like May 29\n",
    "```\n",
    "\n",
    "I'll dump the first few rows of each table so you can get a better idea of the contents."
   ]
  },
  {
   "cell_type": "markdown",
   "metadata": {},
   "source": [
    "## Reads"
   ]
  },
  {
   "cell_type": "code",
   "execution_count": 32,
   "metadata": {
    "collapsed": false,
    "scrolled": true
   },
   "outputs": [
    {
     "name": "stdout",
     "output_type": "stream",
     "text": [
      "(time, ip, bid)\n",
      "\n",
      "('2017-10-01 00:06:48', 3023614022, 124363)\n",
      "('2017-10-01 00:07:35', 3023614022, 124884)\n",
      "('2017-10-01 00:07:53', 3023614022, 124366)\n"
     ]
    }
   ],
   "source": [
    "print('(time, ip, bid)\\n')\n",
    "for row in cursor.execute('''select * from Reads limit 3'''):\n",
    "    print(row)"
   ]
  },
  {
   "cell_type": "markdown",
   "metadata": {},
   "source": [
    "## Books"
   ]
  },
  {
   "cell_type": "code",
   "execution_count": 33,
   "metadata": {
    "collapsed": false
   },
   "outputs": [
    {
     "name": "stdout",
     "output_type": "stream",
     "text": [
      "(bid, title, aid, reviewed)\n",
      "\n",
      "(148, 'Lullaby', 9, 1)\n",
      "(171, 'Balloons Everywhere!', 14, 1)\n",
      "(202, 'Baa Baa Black Sheep', 61, 1)\n"
     ]
    }
   ],
   "source": [
    "print('(bid, title, aid, reviewed)\\n')\n",
    "for row in cursor.execute('''select * from Books limit 3'''):\n",
    "    print(row)"
   ]
  },
  {
   "cell_type": "markdown",
   "metadata": {},
   "source": [
    "## Authors"
   ]
  },
  {
   "cell_type": "code",
   "execution_count": 34,
   "metadata": {
    "collapsed": false
   },
   "outputs": [
    {
     "name": "stdout",
     "output_type": "stream",
     "text": [
      "(aid, login, birthday)\n",
      "\n",
      "(1, 'Gary', 'May 29')\n",
      "(2, 'DLM', 'February 24')\n",
      "(5, 'Jenny', 'January 18')\n"
     ]
    }
   ],
   "source": [
    "print('(aid, login, birthday)\\n')\n",
    "for row in cursor.execute('''select * from Authors limit 3'''):\n",
    "    print(row)"
   ]
  },
  {
   "cell_type": "markdown",
   "metadata": {},
   "source": [
    "## Locations"
   ]
  },
  {
   "cell_type": "code",
   "execution_count": 35,
   "metadata": {
    "collapsed": false
   },
   "outputs": [
    {
     "name": "stdout",
     "output_type": "stream",
     "text": [
      "(ip, country)\n",
      "\n",
      "(32591211, 'United States')\n",
      "(40693121, 'United States')\n",
      "(60836422, 'Canada')\n"
     ]
    }
   ],
   "source": [
    "print('(ip, country)\\n')\n",
    "for row in cursor.execute('''select * from Locations limit 3'''):\n",
    "    print(row)"
   ]
  },
  {
   "cell_type": "markdown",
   "metadata": {},
   "source": [
    "__5. How many different countries read books?__\n",
    "\n",
    "You are writing **only the SQL query**. Do **not** change anything else."
   ]
  },
  {
   "cell_type": "code",
   "execution_count": 36,
   "metadata": {
    "collapsed": false
   },
   "outputs": [
    {
     "name": "stdout",
     "output_type": "stream",
     "text": [
      "16 \n",
      "\n",
      "Q5 appears correct\n"
     ]
    }
   ],
   "source": [
    "Q5 = '''\n",
    "Select count(distinct(country)) from locations a, reads b where a.ip=b.ip\n",
    "'''\n",
    "\n",
    "# Do NOT change any of this\n",
    "# Checking code\n",
    "check_query('Q5', Q5, db, points=10)"
   ]
  },
  {
   "cell_type": "markdown",
   "metadata": {},
   "source": [
    "__6. How many times were reviewed books read?__\n",
    "\n",
    "I'm looking for the number of reads of books that have the _reviewed_ flag set to 1."
   ]
  },
  {
   "cell_type": "code",
   "execution_count": 37,
   "metadata": {
    "collapsed": false
   },
   "outputs": [
    {
     "name": "stdout",
     "output_type": "stream",
     "text": [
      "1055 \n",
      "\n",
      "Q6 appears correct\n"
     ]
    }
   ],
   "source": [
    "Q6 = '''\n",
    "Select count(1) from Books b, reads r where r.bid=b.bid and b.reviewed=1\n",
    "'''\n",
    "\n",
    "# Do NOT change any of this\n",
    "# Checking code\n",
    "check_query('Q6', Q6, db, points=8)"
   ]
  },
  {
   "cell_type": "markdown",
   "metadata": {},
   "source": [
    "__7. What are the titles and authors of the books that have \"help\" anywhere in their title?__\n",
    "\n",
    "List the books in alphabetical order by title, and author login."
   ]
  },
  {
   "cell_type": "code",
   "execution_count": 38,
   "metadata": {
    "collapsed": false
   },
   "outputs": [
    {
     "name": "stdout",
     "output_type": "stream",
     "text": [
      "[['Community Helpers', 'knkaul'], ['Help the Earth', 'Dylan O'], ['Help: How to write a book', 'Gary'], ['I Help', 'DLM'], ['Police are Here to Help', 'D Colucci']] \n",
      "\n",
      "Q7 appears correct\n"
     ]
    }
   ],
   "source": [
    "Q7 = '''\n",
    "Select title,login from authors a, books b where a.aid=b.aid and b.title like '%help%' order by title,login\n",
    "'''\n",
    "\n",
    "# Do NOT change any of this\n",
    "# check code\n",
    "check_query('Q7', Q7, db, points=12)"
   ]
  },
  {
   "cell_type": "markdown",
   "metadata": {},
   "source": [
    "__8. What are logins of the authors whose books were read from Italy?__\n",
    "\n",
    "Produce a list of their logins in alphabetical order."
   ]
  },
  {
   "cell_type": "code",
   "execution_count": 39,
   "metadata": {
    "collapsed": false
   },
   "outputs": [
    {
     "name": "stdout",
     "output_type": "stream",
     "text": [
      "['Adriana', 'Jane', 'Lidia'] \n",
      "\n",
      "Q8 appears correct\n"
     ]
    }
   ],
   "source": [
    "Q8 = '''\n",
    "Select distinct(login)\n",
    "from authors a, books b, reads c, locations d \n",
    "where a.aid=b.aid and b.bid=c.bid and c.ip=d.ip and d.country='Italy' \n",
    "order by a.login\n",
    "'''\n",
    "\n",
    "# Do NOT change any of this\n",
    "# check code\n",
    "check_query('Q8', Q8, db, points=12)"
   ]
  },
  {
   "cell_type": "markdown",
   "metadata": {},
   "source": [
    "__9. How many books were read in each country?__\n",
    "\n",
    "List the country and number in alphabetical order by name."
   ]
  },
  {
   "cell_type": "code",
   "execution_count": 40,
   "metadata": {
    "collapsed": false
   },
   "outputs": [
    {
     "name": "stdout",
     "output_type": "stream",
     "text": [
      "[['Australia', 123], ['Belgium', 2], ['Canada', 79], ['China', 1], ['Colombia', 1], ['France', 22], ['India', 1], ['Italy', 12], ['Korea, Republic of', 3], ['Philippines', 1], ['Russian Federation', 1], ['Singapore', 5], ['Spain', 5], ['United Arab Emirates', 4], ['United Kingdom', 17], ['United States', 1414]] \n",
      "\n",
      "Q9 appears correct\n"
     ]
    }
   ],
   "source": [
    "Q9 = '''\n",
    "Select country, count(1) from locations a, reads b where a.ip=b.ip group by a.country order by country\n",
    "'''\n",
    "\n",
    "# Do NOT change any of this\n",
    "#check code\n",
    "check_query('Q9', Q9, db, points=13)"
   ]
  },
  {
   "cell_type": "markdown",
   "metadata": {},
   "source": [
    "__10. How many authors wrote books that were NOT read in the United States?__\n",
    "\n",
    "I mean none of their books were read in the US. If even one of their books was read from the US, you should not include them. "
   ]
  },
  {
   "cell_type": "code",
   "execution_count": 41,
   "metadata": {
    "collapsed": false
   },
   "outputs": [
    {
     "name": "stdout",
     "output_type": "stream",
     "text": [
      "95 \n",
      "\n",
      "Q10 appears correct\n"
     ]
    }
   ],
   "source": [
    "Q10 = '''\n",
    "Select count(distinct(login))\n",
    "from authors a\n",
    "where aid not in (Select distinct aid from books b, reads c, locations d \n",
    "where b.bid=c.bid and c.ip=d.ip and country='United States')\n",
    "\n",
    "'''\n",
    "\n",
    "# Do NOT change any of this\n",
    "#check code\n",
    "check_query('Q10', Q10, db, points=15)"
   ]
  },
  {
   "cell_type": "markdown",
   "metadata": {},
   "source": [
    "__11. How many books were read whose authors were born in May?__\n",
    "\n",
    "I'm looking for a single query that returns an integer."
   ]
  },
  {
   "cell_type": "code",
   "execution_count": 42,
   "metadata": {
    "collapsed": false
   },
   "outputs": [
    {
     "name": "stdout",
     "output_type": "stream",
     "text": [
      "120 \n",
      "\n",
      "Q11 appears correct\n"
     ]
    }
   ],
   "source": [
    "Q11 = '''\n",
    "Select distinct(count(c.bid))\n",
    "from authors a,books b, reads c\n",
    "where a.aid = b.aid\n",
    "and b.bid = c.bid\n",
    "and a.birthday like '%May%'\n",
    "'''\n",
    "\n",
    "# Do NOT change any of this\n",
    "#check\n",
    "check_query('Q11', Q11, db, points=10)"
   ]
  },
  {
   "cell_type": "markdown",
   "metadata": {},
   "source": [
    "## Done!\n",
    "\n",
    "Now, you should save, restart the kernel (Kernel menu -> Restart), run all the cells (Cell menu -> Run all), check your report, save, and submit your notebook. \n",
    "\n",
    "Use your **ONYEN** to submit.\n",
    "\n",
    "## You MUST scan your one card before leaving"
   ]
  },
  {
   "cell_type": "code",
   "execution_count": 43,
   "metadata": {
    "collapsed": false
   },
   "outputs": [
    {
     "name": "stdout",
     "output_type": "stream",
     "text": [
      "  Pledged on my honor: Rashnil Chaturvedi\n",
      "    Rash\n",
      "Report for rashnil\n",
      "  12 of 12 answered for up to 20 points\n",
      "  7 of 7 appear correct, 80 of 80 points\n"
     ]
    },
    {
     "data": {
      "text/html": [
       "\n",
       "<p>Click the button below to submit your notebook. Watch for a confirmation message\n",
       "that your notebook was successfully uploaded. You may submit as often as you wish,\n",
       "only the last submission will count.</p>\n",
       "<button id=\"submitButton116\">Submit this notebook</button>\n",
       "<p id=\"submitResponse116\"></p>\n",
       "<script>\n",
       "var site = 'https://wwwx.cs.unc.edu/Courses/comp521-f17/';\n",
       "$('#submitButton116').on('click', function() {\n",
       "    var site = 'https://wwwx.cs.unc.edu/Courses/comp521-f17/',\n",
       "        $sresp = $('#submitResponse116'),\n",
       "        button = $('#submitButton116');\n",
       "    button.prop('disabled', true);\n",
       "    // wait until save is complete before pushing the notebook\n",
       "    $([IPython.events]).one('notebook_saved.Notebook', function() {\n",
       "        // get the token by logging in\n",
       "        $sresp.html('logging in');\n",
       "        $.ajax({\n",
       "            url: site + 'io/token/token.cgi',\n",
       "            dataType: 'jsonp'\n",
       "        }).done(function(data) {\n",
       "            var notebook = IPython.notebook.notebook_name,\n",
       "                uuid = data.token,\n",
       "                command = \"comp521.pushNotebook('\" + notebook + \"', '\" + uuid + \"')\",\n",
       "                kernel = IPython.notebook.kernel,\n",
       "                handler = function (out) {\n",
       "                    $('#comp116-stop-message').show();\n",
       "                    if (out.content.status == \"ok\") {\n",
       "                        $sresp.html(\"Successfully submitted \" + notebook);\n",
       "                        $('#comp116-stop-message').hide();\n",
       "                    } else if(out.content.status == \"error\") {\n",
       "                        $sresp.html(out.content.ename + \": \" + out.content.evalue);\n",
       "                    } else { // if output is something we haven't thought of\n",
       "                        $sresp.html(\"[out type not implemented]\")\n",
       "                    }\n",
       "                    button.prop('disabled', false);\n",
       "                };\n",
       "            $sresp.html('Submitting');\n",
       "            kernel.execute(command, {shell: { reply: handler }});\n",
       "        }).fail(function() {\n",
       "            $sresp.html('Login failed');\n",
       "            button.prop('disabled', false);\n",
       "        });\n",
       "    });\n",
       "    // trigger the save\n",
       "    $sresp.html('Saving');\n",
       "    IPython.notebook.save_notebook();\n",
       "});"
      ],
      "text/plain": [
       "<IPython.core.display.HTML object>"
      ]
     },
     "execution_count": 43,
     "metadata": {},
     "output_type": "execute_result"
    }
   ],
   "source": [
    "# Do NOT change any of this\n",
    "# These values are defined at the top of the notebook\n",
    "\n",
    "report(Onyen, Pledge)"
   ]
  }
 ],
 "metadata": {
  "kernelspec": {
   "display_name": "Python 3",
   "language": "python",
   "name": "python3"
  },
  "language_info": {
   "codemirror_mode": {
    "name": "ipython",
    "version": 3
   },
   "file_extension": ".py",
   "mimetype": "text/x-python",
   "name": "python",
   "nbconvert_exporter": "python",
   "pygments_lexer": "ipython3",
   "version": "3.6.0"
  }
 },
 "nbformat": 4,
 "nbformat_minor": 1
}
