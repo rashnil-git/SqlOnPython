{
 "cells": [
  {
   "cell_type": "markdown",
   "metadata": {},
   "source": [
    "# Unlock your exam\n",
    "\n",
    "This notebook will unlock your exam which has been downloaded but is not yet accessible to you.\n",
    "\n",
    "You should fill in the **password** which will be revealed to you when you start the exam. You may **not** reveal the password to anyone else."
   ]
  },
  {
   "cell_type": "code",
   "execution_count": null,
   "metadata": {
    "collapsed": true
   },
   "outputs": [],
   "source": [
    "password = ''\n",
    "\n",
    "# Do not modify anything below this point. Simply enter the info above and then run this cell. \n",
    "# Then go back to your iPython Dashboard and you should see the exam listed there.\n",
    "from unlocker import unlock\n",
    "unlock('MT1.locked', password)\n"
   ]
  },
  {
   "cell_type": "code",
   "execution_count": null,
   "metadata": {
    "collapsed": true
   },
   "outputs": [],
   "source": []
  }
 ],
 "metadata": {
  "kernelspec": {
   "display_name": "Python 3",
   "language": "python",
   "name": "python3"
  },
  "language_info": {
   "codemirror_mode": {
    "name": "ipython",
    "version": 3
   },
   "file_extension": ".py",
   "mimetype": "text/x-python",
   "name": "python",
   "nbconvert_exporter": "python",
   "pygments_lexer": "ipython3",
   "version": "3.6.0"
  }
 },
 "nbformat": 4,
 "nbformat_minor": 1
}
