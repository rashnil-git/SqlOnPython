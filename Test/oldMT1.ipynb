{
 "cells": [
  {
   "cell_type": "markdown",
   "metadata": {},
   "source": [
    "# Comp 521 Fall 2015 Midterm 1\n",
    "\n",
    "__Don't Panic!__\n",
    "\n",
    "You may use only your book (print or pdf), your notes, homework, anything else you have downloaded to your computer and the Jupyter notebook.\n",
    "\n",
    "You may not access the web sites, instant messaging, phones, or spirit guides. You will pledge on your honor that you have neither given nor received unauthorized help.\n",
    "\n",
    "You must submit your exam before you leave the room. \n",
    "\n",
    "Enter your _onyen_ below."
   ]
  },
  {
   "cell_type": "code",
   "execution_count": 1,
   "metadata": {
    "collapsed": true
   },
   "outputs": [],
   "source": [
    "Onyen = 'rashnil' # not your PID, your onyen"
   ]
  },
  {
   "cell_type": "markdown",
   "metadata": {},
   "source": [
    "## Honor Pledge\n",
    "\n",
    "I certify that no unauthorized assistance has been received or given in the completion of this work. \n",
    "\n",
    "Enter your full name as the value of the Pledge variable below."
   ]
  },
  {
   "cell_type": "code",
   "execution_count": 2,
   "metadata": {
    "collapsed": true
   },
   "outputs": [],
   "source": [
    "Pledge = 'Rashnil Chaturvedi' # type your full name between the quotes"
   ]
  },
  {
   "cell_type": "code",
   "execution_count": 3,
   "metadata": {
    "collapsed": true
   },
   "outputs": [],
   "source": [
    "# setup\n",
    "import sqlite3\n",
    "import comp521\n",
    "\n",
    "conn = sqlite3.connect('oldmt1.db')\n",
    "cursor = conn.cursor()\n",
    "\n",
    "check, report = comp521.start('oldMT1')"
   ]
  },
  {
   "cell_type": "markdown",
   "metadata": {},
   "source": [
    "__1. Which of the following SQL operations, used in the normal ways we have discussed, will change the schema?__\n",
    "\n",
    "\tA. delete\t\n",
    "\tB. insert\t\n",
    "\tC. select\n",
    "    D. none of these\t\n"
   ]
  },
  {
   "cell_type": "code",
   "execution_count": 4,
   "metadata": {
    "collapsed": false
   },
   "outputs": [
    {
     "name": "stdout",
     "output_type": "stream",
     "text": [
      "Q1 appears correct\n"
     ]
    }
   ],
   "source": [
    "# Assign a letter to the answer variable below\n",
    "Q1 = 'D'\n",
    "\n",
    "# Checking code, it will only tell you if the domain of the answer is incorrect\n",
    "check('Q1', Q1, points=5, choice='ABCD')"
   ]
  },
  {
   "cell_type": "markdown",
   "metadata": {},
   "source": [
    "__2. Which of the following is characteristic of a database schema?__\n",
    "\n",
    "    A. It determines a relation’s degree\n",
    "    B. It determines a relation’s cardinality\n",
    "    C. It must specify a primary key\n",
    "    D. None of these."
   ]
  },
  {
   "cell_type": "code",
   "execution_count": 6,
   "metadata": {
    "collapsed": false
   },
   "outputs": [
    {
     "name": "stdout",
     "output_type": "stream",
     "text": [
      "Q2 appears correct\n"
     ]
    }
   ],
   "source": [
    "# Assign a letter to the answer variable below\n",
    "Q2 = 'A'\n",
    "\n",
    "# Checking code, it will only tell you if the domain of the answer is incorrect\n",
    "check('Q2', Q2, points=5, choice='ABCD')"
   ]
  },
  {
   "cell_type": "markdown",
   "metadata": {},
   "source": [
    "__3. Why is the join operator not one of the five primitive (basic) operators of relational algebra?__\n",
    "\n",
    "    A. it has too many variants to be considered a primitive\n",
    "    B. it is equivalent to cross product\n",
    "    C. joins can be accomplished by composing primitive operations\n",
    "    D. it wasn't in the original papers."
   ]
  },
  {
   "cell_type": "code",
   "execution_count": 7,
   "metadata": {
    "collapsed": false
   },
   "outputs": [
    {
     "name": "stdout",
     "output_type": "stream",
     "text": [
      "Q3 appears correct\n"
     ]
    }
   ],
   "source": [
    "# Assign a letter to the answer variable below\n",
    "Q3 = 'C'\n",
    "\n",
    "# Checking code, it will only tell you if the domain of the answer is incorrect\n",
    "check('Q3', Q3, points=5, choice='ABCD')"
   ]
  },
  {
   "cell_type": "markdown",
   "metadata": {},
   "source": [
    "__4. Which SQL query clause corresponds to the relational algebra $\\sigma$ operator.__\n",
    "\n",
    "    A. ORDER BY\n",
    "    B. GROUP BY\n",
    "    C. SELECT\n",
    "    D. WHERE"
   ]
  },
  {
   "cell_type": "code",
   "execution_count": 9,
   "metadata": {
    "collapsed": false
   },
   "outputs": [
    {
     "name": "stdout",
     "output_type": "stream",
     "text": [
      "Q4 appears correct\n"
     ]
    }
   ],
   "source": [
    "# Assign a letter to the answer variable below\n",
    "Q4 = 'D'\n",
    "\n",
    "# Checking code, it will only tell you if the domain of the answer is incorrect\n",
    "check('Q4', Q4, points=5, choice='ABCD')"
   ]
  },
  {
   "cell_type": "markdown",
   "metadata": {},
   "source": [
    "## Database info\n",
    "\n",
    "In the setup code below I will connect to a small database that is included in the zip file for this exam and will create a cursor for your use. There is no need for you to create a new connection object or cursor. \n",
    "\n",
    "The schema of the data base is a little different from boat club database we used in class. Here is its schema.\n",
    "\n",
    "```\n",
    "create table Sailors \n",
    "    (id integer primary key, \n",
    "     name text, \n",
    "     rating integer, \n",
    "     age integer)\n",
    "```\n",
    "\n",
    "```\n",
    "create table Boats\n",
    "    (id integer primary key, \n",
    "     name text, \n",
    "     color text)\n",
    "```\n",
    "\n",
    "```\n",
    "create table Reserves \n",
    "    (sid integer, \n",
    "     bid integer, \n",
    "     day text,  # format yyyy-mm-dd i.e. 2015-09-24 is 24 Sept 2015\n",
    "     primary key (sid, day) \n",
    "     foreign key (sid) references Sailors(id)\n",
    "     foreign key (bid) references Boats(id))\n",
    "```"
   ]
  },
  {
   "cell_type": "markdown",
   "metadata": {},
   "source": [
    "__5. How many boats are in the Boats table?__\n",
    "\n",
    "__Remember__ you must compute your answer for any database with this schema, not for this specific instance. Use the `cursor` variable provided to execute the appropriate SQL statement and retrieve its result. For each question I tell you the type of result that is expected. You may have to use Python code to transform the result you get back from `cursor.execute` to get it into the expected form. "
   ]
  },
  {
   "cell_type": "code",
   "execution_count": 12,
   "metadata": {
    "collapsed": false
   },
   "outputs": [
    {
     "name": "stdout",
     "output_type": "stream",
     "text": [
      "Q5 = 19\n",
      "Q5 appears correct\n"
     ]
    }
   ],
   "source": [
    "# expecting an integer\n",
    "Q5 = 0\n",
    "\n",
    "cursor.execute(''' select count(*) from Boats''')\n",
    "\n",
    "Q5 = cursor.fetchone()[0]\n",
    "\n",
    "print('Q5 =', Q5)\n",
    "\n",
    "# Checking code\n",
    "check('Q5', Q5, points=5)"
   ]
  },
  {
   "cell_type": "markdown",
   "metadata": {},
   "source": [
    "__6. What is the cardinality of the cross product of the Boats relation with the Reserves relation?__"
   ]
  },
  {
   "cell_type": "code",
   "execution_count": 13,
   "metadata": {
    "collapsed": false
   },
   "outputs": [
    {
     "name": "stdout",
     "output_type": "stream",
     "text": [
      "Q6 = 1026\n",
      "Q6 appears correct\n"
     ]
    }
   ],
   "source": [
    "# expecting an integer\n",
    "Q6 = 0\n",
    "\n",
    "\n",
    "cursor.execute(''' select count(*) from Boats,RESERVES''')\n",
    "\n",
    "Q6 = cursor.fetchone()[0]\n",
    "\n",
    "# cardinality - number of joined results.\n",
    "\n",
    "print('Q6 =', Q6)\n",
    "# Checking code\n",
    "check('Q6', Q6, points=10)"
   ]
  },
  {
   "cell_type": "markdown",
   "metadata": {},
   "source": [
    "__7. How many times have red boats been reserved?__"
   ]
  },
  {
   "cell_type": "code",
   "execution_count": 18,
   "metadata": {
    "collapsed": true
   },
   "outputs": [],
   "source": [
    "# expecting an integer\n",
    "Q7 = 0\n",
    "\n",
    "print('Q7 =', Q7)\n",
    "# check code\n",
    "check('Q7', Q7, points=10)"
   ]
  },
  {
   "cell_type": "markdown",
   "metadata": {},
   "source": [
    "__8. What are the names of the sailors who have reserved a boat named Clipper?__\n",
    "\n",
    "Produce a list of their names; you may assume that no two sailors have the same name (this makes it easier). "
   ]
  },
  {
   "cell_type": "code",
   "execution_count": 19,
   "metadata": {
    "collapsed": true
   },
   "outputs": [],
   "source": [
    "# expecting a list of strings\n",
    "Q8 = [ ]\n",
    "\n",
    "print('Q8 =', Q8)\n",
    "\n",
    "# test code\n",
    "check('Q8', Q8, points=10, sort=True)"
   ]
  },
  {
   "cell_type": "markdown",
   "metadata": {},
   "source": [
    "__9. Which boats have been reserved by sailors with ratings higher than 5?__\n",
    "\n",
    "The expected result is a list of boat ids."
   ]
  },
  {
   "cell_type": "code",
   "execution_count": 20,
   "metadata": {
    "collapsed": true
   },
   "outputs": [],
   "source": [
    "# expecting a list of integers\n",
    "Q9 = [ ]\n",
    "\n",
    "print('Q9 =', Q9)\n",
    "\n",
    "#check code\n",
    "check('Q9', Q9, points=10, sort=True)\n"
   ]
  },
  {
   "cell_type": "markdown",
   "metadata": {},
   "source": [
    "__10. Which sailors have never reserved a red boat?__"
   ]
  },
  {
   "cell_type": "code",
   "execution_count": 21,
   "metadata": {
    "collapsed": true
   },
   "outputs": [],
   "source": [
    "# expecting a list of strings\n",
    "Q10 = []\n",
    "\n",
    "print('Q10 =', Q10)\n",
    "\n",
    "#check code\n",
    "check('Q10', Q10, points=15, sort=True)"
   ]
  },
  {
   "cell_type": "markdown",
   "metadata": {},
   "source": [
    "__11. Which sailors reserved a boat in May or June of 2014?__"
   ]
  },
  {
   "cell_type": "code",
   "execution_count": 22,
   "metadata": {
    "collapsed": true
   },
   "outputs": [],
   "source": [
    "# expecting a list of strings\n",
    "Q11 = [ ]\n",
    "\n",
    "print ('Q11 =', Q11)\n",
    "\n",
    "#check\n",
    "check('Q11', Q11, points=15, sort=True)"
   ]
  },
  {
   "cell_type": "markdown",
   "metadata": {},
   "source": [
    "__12. What restriction on the Reserves relation is created by the schema phrase `primary key (sid, day)`?__\n",
    "\n",
    "    A. A sailor may only make one reservation.\n",
    "    B. A sailor may only reserve one boat per day.\n",
    "    C. Each boat may only be reserved once per day.\n",
    "    D. The reserves relation will be ordered by sid and day."
   ]
  },
  {
   "cell_type": "code",
   "execution_count": 14,
   "metadata": {
    "collapsed": false
   },
   "outputs": [
    {
     "name": "stdout",
     "output_type": "stream",
     "text": [
      "Q12 appears correct\n"
     ]
    }
   ],
   "source": [
    "# Assign a letter to the answer variable below\n",
    "Q12 = 'B'\n",
    "\n",
    "# Checking code, it will only tell you if the domain of the answer is incorrect\n",
    "check('Q12', Q12, points=5, choice='ABCD')"
   ]
  },
  {
   "cell_type": "markdown",
   "metadata": {},
   "source": [
    "## Done!\n",
    "\n",
    "Now, you should save, restart the kernel (Kernel menu -> Restart), run all the cells (Cell menu -> Run all), check your report, save, and submit your notebook. "
   ]
  },
  {
   "cell_type": "code",
   "execution_count": 24,
   "metadata": {
    "collapsed": true
   },
   "outputs": [],
   "source": [
    "report(Onyen, Pledge)"
   ]
  },
  {
   "cell_type": "code",
   "execution_count": null,
   "metadata": {
    "collapsed": true
   },
   "outputs": [],
   "source": []
  }
 ],
 "metadata": {
  "kernelspec": {
   "display_name": "Python 3",
   "language": "python",
   "name": "python3"
  },
  "language_info": {
   "codemirror_mode": {
    "name": "ipython",
    "version": 3
   },
   "file_extension": ".py",
   "mimetype": "text/x-python",
   "name": "python",
   "nbconvert_exporter": "python",
   "pygments_lexer": "ipython3",
   "version": "3.6.0"
  }
 },
 "nbformat": 4,
 "nbformat_minor": 1
}
